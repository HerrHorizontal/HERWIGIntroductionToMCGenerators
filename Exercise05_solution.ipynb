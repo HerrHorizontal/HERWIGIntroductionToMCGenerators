{
 "cells": [
  {
   "cell_type": "markdown",
   "metadata": {},
   "source": [
    "# Event Generation with Herwig7"
   ]
  },
  {
   "cell_type": "markdown",
   "metadata": {},
   "source": [
    "## 1. Getting Started"
   ]
  },
  {
   "cell_type": "markdown",
   "metadata": {},
   "source": [
    "### Preparations\n",
    "First make sure you run a `Bash` kernel in your Jupyter notebook. If this is not the case, please click on the `Python 3` text on the upper right of your notebook, as shown on the image below, and select the `Bash` kernel.\n",
    "\n",
    "***\n",
    "![](figures/kernel_1.png) ![](figures/kernel_2.png)\n",
    "***"
   ]
  },
  {
   "cell_type": "markdown",
   "metadata": {},
   "source": [
    " Then to set the environment for running Herwig, execute:"
   ]
  },
  {
   "cell_type": "code",
   "execution_count": 1,
   "metadata": {},
   "outputs": [
    {
     "name": "stdout",
     "output_type": "stream",
     "text": [
      "(herwig)"
     ]
    },
    {
     "ename": "",
     "evalue": "1",
     "output_type": "error",
     "traceback": []
    }
   ],
   "source": [
    "source /herwig/bin/activate"
   ]
  },
  {
   "cell_type": "markdown",
   "metadata": {},
   "source": [
    "Type `Herwig --help` to see the execution options for Herwig.\n",
    "You are now ready to start generating your first events."
   ]
  },
  {
   "cell_type": "code",
   "execution_count": 2,
   "metadata": {},
   "outputs": [
    {
     "name": "stdout",
     "output_type": "stream",
     "text": [
      "Herwig 7.2.1\n",
      "\n",
      "Herwig is a multi-purpose Monte-Carlo event generator for particle physics. See\n",
      "arXiv:0803.0883 for a detailed manual, or arXiv:1101.2599 for a more general\n",
      "description of the physics behind MC event generation.\n",
      "\n",
      "Usage: Herwig (read|build|integrate|mergegrids|run) [OPTIONS]... [FILE]\n",
      "\n",
      "One of the commands 'read', 'build', 'integrate', 'mergegrids' or 'run' is\n",
      "required:\n",
      "    read - reads an input file and creates a run file,\n",
      "    build - reads an input file and creates matrix elements,\n",
      "    integrate - integrate subprocesses after running `build',\n",
      "    mergegrids - combine integration grids from parallel adaption,\n",
      "    run  - reads a run file and generates events.\n",
      "\n",
      "  -h, --help               Print help and exit\n",
      "      --full-help          Print help, including hidden options, and exit\n",
      "  -V, --version            Print version and exit\n",
      "\n",
      "Event generation options:\n",
      "  -N, --numevents=LONG     Number of events to generate.\n",
      "  -s, --seed=INT           The random number generator seed.\n",
      "  -t, --tag=TAG            A tag to append to the run name.  (default=`')\n",
      "  -d, --debug=INT          Set the ThePEG debug level.\n",
      "  -D, --debug-fpe          Enable floating point exceptions.  (default=off)\n",
      "  -q, --quiet              Disable event counter.  (default=off)\n",
      "  -j, --jobs=INT           Number of jobs to run in parallel (max 10).\n",
      "  -x, --setupfile=FILE     An input file to modify run parameters.\n",
      "\n",
      "Build and integration options:\n",
      "  -c, --cachedir=DIR       Matchbox cache directory.  (default=`Herwig-cache')\n",
      "  -z, --jobsize=NUMBER     The number of subprocesses to integrate per job\n",
      "                             (build only).\n",
      "  -y, --maxjobs=NUMBER     The maximum number of integration jobs to be created\n",
      "                             (build only).\n",
      "  -n, --jobid=NUMBER       Integrate the given integration job.\n",
      "  -x, --setupfile=FILE     An input file to modify run parameters.\n",
      "  -t, --tag=TAG            A tag to append to the run name  (default=`')\n",
      "\n",
      "Repository options:\n",
      "  -i, --append-read=PATH   Append a search path for the read command.\n",
      "  -I, --prepend-read=PATH  Prepend a search path for the read command.\n",
      "\n",
      "Plugin library options:\n",
      "  -l, --append=PATH        Append a search path for dynamically loaded\n",
      "                             libraries.\n",
      "  -L, --prepend=PATH       Prepend a search path for dynamically loaded\n",
      "                             libraries.\n",
      "\n",
      "Usage: Herwig init [OPTIONS] FILE\n",
      "    creates a new default repository (not useful for end users).\n",
      "\n",
      "(herwig)"
     ]
    },
    {
     "ename": "",
     "evalue": "1",
     "output_type": "error",
     "traceback": []
    }
   ],
   "source": [
    "Herwig --help"
   ]
  },
  {
   "cell_type": "markdown",
   "metadata": {},
   "source": [
    "### Getting Familiar\n",
    "Open the inputfile for this exercise `LHC-Matchbox.in` and have a look at the last line\n",
    "```\n",
    "saverun <YOUR_GENERATOR_NAME> EventGenerator\n",
    "```"
   ]
  },
  {
   "cell_type": "markdown",
   "metadata": {},
   "source": [
    "This defines your `EventGenerator` object with the identifier `<YOUR_GENERATOR_NAME>` composed of the many module objects defined and configured above. \n",
    "Set `<YOUR_GENERATOR_NAME>` to a unique string, so you will be able to identify your generator later on.\n",
    "You do not have to understand each configurable module in the file in detail, but you will need to adjust some of them for this exercise.\n",
    "For example, to adjust the center-of-mass energy of the collision and the type of process, you need to change the lines 18 and 39, respectively, in your input file to\n",
    "```\n",
    "    set EventHandler:LuminosityFunction:Energy 13000*GeV\n",
    "    [...]\n",
    "    do Factory:Process p p -> mu+ mu-\n",
    "```\n",
    "to generate $pp \\rightarrow \\mu^+ \\mu^-$ events at $13\\,\\mathrm{GeV}$ center-of-mass energy as produced for example at the LHC."
   ]
  },
  {
   "cell_type": "markdown",
   "metadata": {},
   "source": [
    "To start your first generation of events execute the following:"
   ]
  },
  {
   "cell_type": "code",
   "execution_count": 9,
   "metadata": {},
   "outputs": [
    {
     "name": "stdout",
     "output_type": "stream",
     "text": [
      "determining subprocesses for p p mu+ mu- \n",
      "building matrix elements.\n",
      "0%   10   20   30   40   50   60   70   80   90   100%\n",
      "|----|----|----|----|----|----|----|----|----|----|\n",
      "***************************************************\n",
      "created 10 subprocesses.\n",
      "---------------------------------------------------\n",
      "preparing Born matrix elements.\n",
      "Process setup finished.\n",
      "\n",
      "The MCnet usage guidelines apply to Rivet: see http://www.montecarlonet.org/GUIDELINES\n",
      "Please acknowledge Rivet in results made using it, and cite https://arxiv.org/abs/1912.05451\n",
      "integrating subprocesses\n",
      "0%   10   20   30   40   50   60   70   80   90   100%\n",
      "|----|----|----|----|----|----|----|----|----|----|\n",
      "***************************************************\n",
      "(herwig)"
     ]
    },
    {
     "ename": "",
     "evalue": "1",
     "output_type": "error",
     "traceback": []
    }
   ],
   "source": [
    "Herwig read LHC-Matchbox-Solution.in"
   ]
  },
  {
   "cell_type": "markdown",
   "metadata": {},
   "source": [
    "in your Bash shell. This will read in your input file, build and compile all modules with your chosen configurations and produce a few outputs.  \n",
    "The read step will usually take a few minutes. \n",
    "While you are waiting for the `Herwig read` step to finish you can deal with the following assignments:"
   ]
  },
  {
   "cell_type": "markdown",
   "metadata": {},
   "source": [
    "<div class=\"alert alert-info\">\n",
    "<strong>Question 1.1:</strong> \n",
    "    \n",
    "How many Feynman diagrams are contributing at leading order (LO) perturbation theory? \n",
    "Why is there no top quark involved?\n",
    "</div>\n",
    "\n",
    "**Hint**: Have a look at the output generated by the `Herwig read` step and divide this number by a factor of two.\n",
    "\n",
    "**Cheat**: Open the `<YOUR_GENERATOR_NAME>.out` file **after** you generated a few events with the `Herwig run` command below for another hint in case you need it.\n",
    "\n",
    "<div class=\"alert alert-info\">\n",
    "<strong>Question 1.2:</strong> \n",
    "    \n",
    "Explicitly draw the diagrams.\n",
    "</div>"
   ]
  },
  {
   "cell_type": "markdown",
   "metadata": {},
   "source": [
    "The DY process with two oppositely charged muons in the final state at LO perturbation theory involves **five Feynman diagrams** shown below, one for each contributing quark flavor in the initial state. \n",
    "\n",
    "![Contributing Feynman graphs for DY production of oppositely charged muon pairs at a hadron collider for two five flavor PDFs.](figures/feynmanDYlabeled.png)\n",
    "\n",
    "Since at a hadron collider, the contributing quarks are drawn from the colliding hadrons (factorization theorem of QCD) the hard scattering of partons in the proton is approximately independent of the soft limes of QCD describing the parton content in the hadrons (parton density functions, PDFs). \n",
    "Herwig though, keeps track of the original hadrons and distinguishs therefore between two diagrams for same quark flavor.\n",
    "This leads to the **extra factor of 2**. \n",
    "\n",
    "By **chosing explicitely a five flavor PDF the top-quark gets excluded**. \n",
    "There is no explicit theoretical reason<sup>1</sup> to do so, but it was observed, that this choice describes the data well.\n",
    "Also we select our muons to have an invariant mass within a window of the $\\text{Z}^0$-boson mass $\\pm$ 30GeV. \n",
    "This makes it very unprobable to find an event with a top-quark pair in the initial state even with a six flavor PDF, since the top-quarks must be (due to momentum conservation) very virtual, which leaves only a small remaining phase-space.\n",
    "\n",
    "<sup>1</sup> **Exception**: it can be argued that at the top-quark mass scale QCD isn't soft anymore and the prerequisites of the non-perturbative treatment of the PDFs don't hold anymore."
   ]
  },
  {
   "cell_type": "markdown",
   "metadata": {},
   "source": [
    "Until now the preparations should have been finished and you should have now a new directory `Herwig-cache` and a `<YOUR_GENERATOR_NAME>.run` file in your working directory.\n",
    "Use them to generate 10000 events of the process $pp \\rightarrow \\mu^+ \\mu^-$ at a center-of-mass energy of 13TeV events by executing"
   ]
  },
  {
   "cell_type": "code",
   "execution_count": 10,
   "metadata": {},
   "outputs": [
    {
     "name": "stdout",
     "output_type": "stream",
     "text": [
      "event>         0/10000; xs = 197078 pb +- 197078 pb\n",
      "\u001b[0;32mRivet.Analysis.Handler: INFO \u001b[0m Using named weights\n",
      "event>         1/10000; xs = 7299.18 pb +- 7299.18 pb\n",
      "event>         2/10000; xs = 13138.5 pb +- 9128.76 pb\n",
      "event>         5/10000; xs = 1615.39 pb +- 720.049 pb\n",
      "event>        10/10000; xs = 1685.87 pb +- 531.06 pb\n",
      "event>        20/10000; xs = 2325.4 pb +- 517.052 pb\n",
      "event>        50/10000; xs = 1360.85 pb +- 191.801 pb\n",
      "event>       100/10000; xs = 1459.51 pb +- 145.415 pb\n",
      "event>       200/10000; xs = 1387.09 pb +- 97.7381 pb\n",
      "event>       300/10000; xs = 1323.32 pb +- 76.1459 pb\n",
      "event>       400/10000; xs = 1351.49 pb +- 67.3431 pb\n",
      "event>       500/10000; xs = 1368.96 pb +- 61.0091 pb\n",
      "event>       600/10000; xs = 1375.78 pb +- 55.9699 pb\n",
      "event>       700/10000; xs = 1379.75 pb +- 51.9671 pb\n",
      "event>       800/10000; xs = 1405.04 pb +- 49.4985 pb\n",
      "event>       900/10000; xs = 1389.68 pb +- 46.1592 pb\n",
      "event>      1000/10000; xs = 1394.2 pb +- 43.9323 pb\n",
      "event>      1100/10000; xs = 1400.13 pb +- 42.0653 pb\n",
      "event>      1200/10000; xs = 1410.35 pb +- 40.5675 pb\n",
      "event>      1300/10000; xs = 1398.44 pb +- 38.648 pb\n",
      "event>      1400/10000; xs = 1402.19 pb +- 37.3432 pb\n",
      "event>      1500/10000; xs = 1397.67 pb +- 35.961 pb\n",
      "event>      1600/10000; xs = 1398.51 pb +- 34.84 pb\n",
      "event>      1700/10000; xs = 1392.67 pb +- 33.6588 pb\n",
      "event>      1800/10000; xs = 1394.78 pb +- 32.7611 pb\n",
      "event>      1900/10000; xs = 1394.17 pb +- 31.8735 pb\n",
      "event>      2000/10000; xs = 1403.44 pb +- 31.2721 pb\n",
      "event>      2100/10000; xs = 1419.44 pb +- 30.865 pb\n",
      "event>      2200/10000; xs = 1417.84 pb +- 30.1214 pb\n",
      "event>      2300/10000; xs = 1416.71 pb +- 29.4357 pb\n",
      "event>      2400/10000; xs = 1414.4 pb +- 28.7692 pb\n",
      "event>      2500/10000; xs = 1420.47 pb +- 28.3083 pb\n",
      "event>      2600/10000; xs = 1427.46 pb +- 27.8948 pb\n",
      "event>      2700/10000; xs = 1420.61 pb +- 27.2423 pb\n",
      "event>      2800/10000; xs = 1409.88 pb +- 26.55 pb\n",
      "event>      2900/10000; xs = 1414.72 pb +- 26.1779 pb\n",
      "event>      3000/10000; xs = 1414.17 pb +- 25.7279 pb\n",
      "event>      3100/10000; xs = 1410.09 pb +- 25.2367 pb\n",
      "event>      3200/10000; xs = 1413.02 pb +- 24.8906 pb\n",
      "event>      3300/10000; xs = 1411.29 pb +- 24.4805 pb\n",
      "event>      3400/10000; xs = 1412.21 pb +- 24.1336 pb\n",
      "event>      3500/10000; xs = 1416.89 pb +- 23.8647 pb\n",
      "event>      3600/10000; xs = 1412.56 pb +- 23.4594 pb\n",
      "event>      3700/10000; xs = 1415.43 pb +- 23.1869 pb\n",
      "event>      3800/10000; xs = 1413.85 pb +- 22.8543 pb\n",
      "event>      3900/10000; xs = 1417.92 pb +- 22.624 pb\n",
      "event>      4000/10000; xs = 1420.51 pb +- 22.3802 pb\n",
      "event>      4100/10000; xs = 1420 pb +- 22.0976 pb\n",
      "event>      4200/10000; xs = 1419.61 pb +- 21.827 pb\n",
      "event>      4300/10000; xs = 1419.65 pb +- 21.5722 pb\n",
      "event>      4400/10000; xs = 1422.28 pb +- 21.3674 pb\n",
      "event>      4500/10000; xs = 1422.22 pb +- 21.1278 pb\n",
      "event>      4600/10000; xs = 1419.84 pb +- 20.862 pb\n",
      "event>      4700/10000; xs = 1419.15 pb +- 20.6287 pb\n",
      "event>      4800/10000; xs = 1417.73 pb +- 20.3923 pb\n",
      "event>      4900/10000; xs = 1422.26 pb +- 20.2474 pb\n",
      "event>      5000/10000; xs = 1419.25 pb +- 20.0016 pb\n",
      "event>      5100/10000; xs = 1421.6 pb +- 19.837 pb\n",
      "event>      5200/10000; xs = 1423.68 pb +- 19.674 pb\n",
      "event>      5300/10000; xs = 1424.84 pb +- 19.5033 pb\n",
      "event>      5400/10000; xs = 1427.86 pb +- 19.3626 pb\n",
      "event>      5500/10000; xs = 1429.47 pb +- 19.2073 pb\n",
      "event>      5600/10000; xs = 1427.62 pb +- 19.0105 pb\n",
      "event>      5700/10000; xs = 1430.38 pb +- 18.8793 pb\n",
      "event>      5800/10000; xs = 1430.47 pb +- 18.7169 pb\n",
      "event>      5900/10000; xs = 1431.05 pb +- 18.5651 pb\n",
      "event>      6000/10000; xs = 1432.88 pb +- 18.4331 pb\n",
      "event>      6100/10000; xs = 1432.02 pb +- 18.2705 pb\n",
      "event>      6200/10000; xs = 1433.75 pb +- 18.1443 pb\n",
      "event>      6300/10000; xs = 1436.56 pb +- 18.0349 pb\n",
      "event>      6400/10000; xs = 1436.16 pb +- 17.8884 pb\n",
      "event>      6500/10000; xs = 1437.79 pb +- 17.7702 pb\n",
      "event>      6600/10000; xs = 1439.14 pb +- 17.6516 pb\n",
      "event>      6700/10000; xs = 1440.46 pb +- 17.5353 pb\n",
      "event>      6800/10000; xs = 1436.07 pb +- 17.3531 pb\n",
      "event>      6900/10000; xs = 1438.42 pb +- 17.2549 pb\n",
      "event>      7000/10000; xs = 1440.22 pb +- 17.1526 pb\n",
      "event>      7100/10000; xs = 1440.93 pb +- 17.0396 pb\n",
      "event>      7200/10000; xs = 1441.57 pb +- 16.9284 pb\n",
      "event>      7300/10000; xs = 1440.61 pb +- 16.8009 pb\n",
      "event>      7400/10000; xs = 1442.33 pb +- 16.7068 pb\n",
      "event>      7500/10000; xs = 1438.78 pb +- 16.5543 pb\n",
      "event>      7600/10000; xs = 1438.81 pb +- 16.446 pb\n",
      "event>      7700/10000; xs = 1435.83 pb +- 16.3051 pb\n",
      "event>      7800/10000; xs = 1436.89 pb +- 16.2121 pb\n",
      "event>      7900/10000; xs = 1437.11 pb +- 16.1117 pb\n",
      "event>      8000/10000; xs = 1437.8 pb +- 16.0183 pb\n",
      "event>      8100/10000; xs = 1440.06 pb +- 15.9439 pb\n",
      "event>      8200/10000; xs = 1437.35 pb +- 15.8167 pb\n",
      "event>      8300/10000; xs = 1436.27 pb +- 15.7093 pb\n",
      "event>      8400/10000; xs = 1437.27 pb +- 15.6264 pb\n",
      "event>      8500/10000; xs = 1436.13 pb +- 15.5219 pb\n",
      "event>      8600/10000; xs = 1434.8 pb +- 15.4172 pb\n",
      "event>      8700/10000; xs = 1438.11 pb +- 15.3634 pb\n",
      "event>      8800/10000; xs = 1435.95 pb +- 15.2531 pb\n",
      "event>      8900/10000; xs = 1436.11 pb +- 15.1688 pb\n",
      "event>      9000/10000; xs = 1435.76 pb +- 15.0806 pb\n",
      "event>      9100/10000; xs = 1433.87 pb +- 14.9779 pb\n",
      "event>      9200/10000; xs = 1432.26 pb +- 14.8796 pb\n",
      "event>      9300/10000; xs = 1432.75 pb +- 14.8043 pb\n",
      "event>      9400/10000; xs = 1434.09 pb +- 14.7391 pb\n",
      "event>      9500/10000; xs = 1434.75 pb +- 14.668 pb\n",
      "event>      9600/10000; xs = 1433.64 pb +- 14.5801 pb\n",
      "event>      9700/10000; xs = 1432.88 pb +- 14.4972 pb\n",
      "event>      9800/10000; xs = 1434.4 pb +- 14.4382 pb\n",
      "event>      9900/10000; xs = 1434.37 pb +- 14.3648 pb\n",
      "event>      9950/10000; xs = 1435.26 pb +- 14.3375 pb\n",
      "event>      9980/10000; xs = 1436.15 pb +- 14.3248 pb\n",
      "event>      9990/10000; xs = 1436.66 pb +- 14.3226 pb\n",
      "event>      9995/10000; xs = 1436.55 pb +- 14.318 pb\n",
      "event>      9998/10000; xs = 1436.61 pb +- 14.3165 pb\n",
      "event>      9999/10000; xs = 1436.49 pb +- 14.3145 pb\n",
      "event>     10000/10000; xs = 1436.5 pb +- 14.3139 pb\n",
      "\n",
      "\n",
      "GraphvizPlot: plots can be generated like this:\n",
      "GraphvizPlot: 'dot -Tsvg ./LHC-Matchbox-Solution-Plot-1.dot > plot.svg'\n",
      "\n",
      "BasicConsistency: maximum 4-momentum violation: \u001b[34m3.874 MeV\n",
      "\u001b[0m\n",
      "The MCnet usage guidelines apply to Rivet: see http://www.montecarlonet.org/GUIDELINES\n",
      "Please acknowledge Rivet in results made using it, and cite https://arxiv.org/abs/1912.05451\n",
      "\n",
      "(herwig)"
     ]
    },
    {
     "ename": "",
     "evalue": "1",
     "output_type": "error",
     "traceback": []
    }
   ],
   "source": [
    "Herwig run LHC-Matchbox-Solution.run -N 10000"
   ]
  },
  {
   "cell_type": "markdown",
   "metadata": {},
   "source": [
    "**Note**: By default each `Herwig run` will use the same seed for the random number generator, i.e., subsequent excecution of the same `.run` file will produce the exact same events. This behaviour is fine for this exercise, even required below, but in practice one might want to change this, e.g., when simulating a large number of events on a distributed computing cluster. You can add the option `--seed=<ARBITRARY_INT_NUMBER>` to ensure that you use different random seeds in different runs."
   ]
  },
  {
   "cell_type": "markdown",
   "metadata": {},
   "source": [
    "<div class=\"alert alert-info\">\n",
    "<strong>Question 1.3:</strong> \n",
    "    \n",
    "What is the LO cross-section of this process?\n",
    "</div>\n",
    "\n",
    "**Hint**: Again, look at the output of the `Herwig run` command.\n",
    "\n",
    "<div class=\"alert alert-info\">\n",
    "<strong>Question 1.4:</strong> \n",
    "    \n",
    "Which factors contribute to the cross section of a process in general? Explain these! \n",
    "</div>"
   ]
  },
  {
   "cell_type": "markdown",
   "metadata": {},
   "source": [
    "The leading order cross-section $\\sigma_\\text{LO}$ for the DY production of two oppositely charged muons calculated by Herwig (actually in this exercise MadGraph is loaded to calculate the amplitude) is $\\sigma_\\text{LO}\\approx1430\\pm10\\text{pb}$ .\n",
    "\n",
    "The cross section $\\sigma$ is differentially proportional to \n",
    "\n",
    "$d\\sigma \\propto \\frac{|\\mathcal{M}_{i\\rightarrow f}|^2}{\\mathcal{F}} \\otimes d\\Phi$\n",
    "\n",
    "with the transition matrix element $\\mathcal{M}_{i\\rightarrow f}=<i | f>$ for the transition of an initial state $i$ to a final state $f$, a factor $\\mathcal{F}$ which is given by the flux of incoming particles and the corresponding phase-space element $d\\Phi$ ."
   ]
  },
  {
   "cell_type": "markdown",
   "metadata": {},
   "source": [
    "## 2. Understanding the Event History"
   ]
  },
  {
   "cell_type": "markdown",
   "metadata": {},
   "source": [
    "Now let's try to understand, what is generated. When the generation is finished, a \n",
    "```\n",
    "    <YOUR_GENERATOR_NAME>-Plot-1.dot\n",
    "```\n",
    "file was produced in your working directory. \n",
    "Use this to generate a graphical representation of your first generated event by executing "
   ]
  },
  {
   "cell_type": "markdown",
   "metadata": {},
   "source": [
    "`dot -Tpng <YOUR_GENERATOR_NAME>-Plot-1.dot > plot.png`"
   ]
  },
  {
   "cell_type": "code",
   "execution_count": 11,
   "metadata": {},
   "outputs": [
    {
     "name": "stdout",
     "output_type": "stream",
     "text": [
      "Unable to revert mtime: /opt/conda/fonts\n",
      "(herwig)"
     ]
    },
    {
     "ename": "",
     "evalue": "1",
     "output_type": "error",
     "traceback": []
    }
   ],
   "source": [
    "dot -Tpng LHC-Matchbox-Solution-Plot-1.dot > plot.png"
   ]
  },
  {
   "cell_type": "markdown",
   "metadata": {},
   "source": [
    "Open now the resulting `plot.png` file (rightklick in the file browser to open it in a new browser tab, will give you a nicer layout to observe the plot) to see the whole history of this particular event."
   ]
  },
  {
   "cell_type": "markdown",
   "metadata": {},
   "source": [
    "<div class=\"alert alert-info\">\n",
    "<strong>Question 2.1:</strong> \n",
    "    \n",
    "Find the colliding particles and required collision products you've specified above ($pp \\rightarrow \\mu^+ \\mu^-$). \n",
    "</div>\n",
    "\n",
    "**Hint**: The time direction in the plot goes from left to right. You can also search with `CTRL + F` for the particles of interest if it is opened in a new tab and you created a `.svg` file instead of `.png`."
   ]
  },
  {
   "cell_type": "markdown",
   "metadata": {},
   "source": [
    "You can find the graphical representations of event with event number 1 generated with seed 12345 for only the hard interaction:\n",
    "\n",
    "![Graphical representation of a $pp \\rightarrow \\mu^+ \\mu^-$ event generated with Herwig with all generation steps turned off, except for the hard interaction, the starting point of each generation. Colored partons are drawn from the proton to build up the initial state of the hard interaction. The remnants of the protons remain as color-charged objects.](figures/plot_hard.png)\n",
    "\n",
    "for hard interaction and parton shower:\n",
    "\n",
    "![Graphical representation of a $pp \\rightarrow \\mu^+ \\mu^-$ event generated with \\Herwig with all generation steps turned off, except for the hard interaction and parton shower. Color-charged particles are represented by colored lines. From the colliding protons color-charged showers of partons emerge. The final non-decaying partons remain as bare colored lines, except for the ones from the hard interaction shown above, which build up its initial state.](figures/plot_PS.png)\n",
    "\n",
    "for hard interaction, parton shower and haronization:\n",
    "\n",
    "![Graphical representation of a $pp \\rightarrow \\mu^+ \\mu^-$ event generated with \\Herwig without generated hadron decays and Underlying Event. The hadronization combines the loose colored lines observed in the previous figure to color neutral intermediate clusters and decays them to hadrons in several steps.](figures/plot_Had.png)\n",
    "\n",
    "for hard interaction, parton shower, hadronization and decay of unstable hadrons:\n",
    "\n",
    "![Graphical representation of a $pp \\rightarrow \\mu^+ \\mu^-$ event generated with \\Herwig without generated Underlying Event. In comparison to the figure above the particle multiplicity is increased due to decaying (non-stable) hadrons. This generation chain of hard interaction, parton shower, hadronization and decay of unstable hadrons is called the hard process.](figures/plot_decays.png)\n",
    "\n",
    "and finally for additional overlapping Underlying Event, representing the full event chain:\n",
    "\n",
    "![Graphical representation of a $pp \\rightarrow \\mu^+ \\mu^-$ event generated with \\Herwig with the fully generated event chain. The hard process observed in figure~\\ref{fig:graph_decay} is overlapped with additional less hard interactions of partons from the proton remnants, which pass a similar generation chain as the hard process. In the end, this leads to similar amounts of extra ``stable'' hadrons per additional interaction.](figures/plot_full.png)\n",
    "\n",
    "In the generated graphs each edge is labelled by three lines. The first line shows the number of the particle ascending with generation time and the type of particle. The second line shows the energy of the particle. In the third line the particle's invariant mass is printed. Keep in mind, that not all particles are in general on the mass shell."
   ]
  },
  {
   "cell_type": "markdown",
   "metadata": {},
   "source": [
    "Let's try to deconstruct the whole event generation by switching-off certain parts of the simulation. \n",
    "For simple changes in the configuration of the modules, which do not influence the calculation of the hard scattering transition matrix element (amplitude squared) Herwig allows to use a short cut, skipping the necessity of rerunning the `Herwig read` step by using a setupfile.\n",
    "\n",
    "In the provided setupfile `setupfile.txt` you have all necessary switches already set to switch-off all generation steps except for the hard scattering process you have defined above in the input file. To re-enable a step you can simply comment out the corresponding line. It will be sufficient to generate only a few events for this purpose, as this will save you a lot of processing time. Generate some events"
   ]
  },
  {
   "cell_type": "code",
   "execution_count": null,
   "metadata": {},
   "outputs": [
    {
     "name": "stdout",
     "output_type": "stream",
     "text": [
      "\n",
      "The MCnet usage guidelines apply to Rivet: see http://www.montecarlonet.org/GUIDELINES\n",
      "Please acknowledge Rivet in results made using it, and cite https://arxiv.org/abs/1912.05451\n",
      "event>         0/10; xs = 197078 pb +- 197078 pb\n",
      "\u001b[0;32mRivet.Analysis.Handler: INFO \u001b[0m Using named weights\n",
      "Had quarks in final state in event 1\n",
      "Had quarks in final state in event 1\n",
      "event>         1/10; xs = 3583.24 pb +- 3583.24 pb\n",
      "Had quarks in final state in event 2\n",
      "Had quarks in final state in event 2\n",
      "event>         2/10; xs = 2214.36 pb +- 1561.36 pb\n",
      "Had quarks in final state in event 3\n",
      "Had quarks in final state in event 3\n",
      "event>         3/10; xs = 2788.84 pb +- 1602.49 pb\n",
      "Had quarks in final state in event 4\n",
      "Had quarks in final state in event 4\n",
      "event>         4/10; xs = 1747.92 pb +- 871.042 pb\n",
      "Had quarks in final state in event 5\n",
      "Had quarks in final state in event 5\n",
      "event>         5/10; xs = 1788.37 pb +- 796.868 pb\n",
      "Had quarks in final state in event 6\n",
      "Had quarks in final state in event 6\n",
      "event>         6/10; xs = 1783.51 pb +- 725.36 pb\n",
      "Had quarks in final state in event 7\n",
      "Had quarks in final state in event 7\n",
      "event>         7/10; xs = 1882.05 pb +- 708.428 pb\n",
      "Had quarks in final state in event 8\n",
      "Had quarks in final state in event 8\n",
      "event>         8/10; xs = 1340.67 pb +- 472.583 pb\n",
      "Had quarks in final state in event 9\n",
      "Had quarks in final state in event 9\n",
      "event>         9/10; xs = 1408.82 pb +- 468.11 pb\n",
      "Had quarks in final state in event 10\n",
      "Had quarks in final state in event 10\n",
      "event>        10/10; xs = 1433.29 pb +- 451.761 pb\n",
      "\n",
      "\n",
      "GraphvizPlot: plots can be generated like this:\n",
      "GraphvizPlot: 'dot -Tsvg ./LHC-Matchbox-Solution-setupfile.txt-Plot-1.dot > plot.svg'\n",
      "\n",
      "BasicConsistency: maximum 4-momentum violation: \u001b[34m0.000 MeV\n",
      "\u001b[0m\n",
      "(herwig)"
     ]
    },
    {
     "ename": "",
     "evalue": "1",
     "output_type": "error",
     "traceback": []
    }
   ],
   "source": [
    "Herwig run LHC-Matchbox-Solution.run --setupfile=setupfile.txt -N 10"
   ]
  },
  {
   "cell_type": "markdown",
   "metadata": {},
   "source": [
    "with options as defined in the setupfile `<YOUR_SETUP_FILE>`. The generated outputs will automatically include the string `<YOUR_SETUP_FILE>` in the name, which simplifies to distinguish between the separate runs."
   ]
  },
  {
   "cell_type": "markdown",
   "metadata": {},
   "source": [
    "<div class=\"alert alert-info\">\n",
    "<strong>Question 2.2:</strong> \n",
    "    \n",
    "Plot the event history for five different scenarios and save them:\n",
    "    \n",
    "* for all switches off,\n",
    "    \n",
    "* only the `CascadeHandler` (for parton shower) turned on,\n",
    "    \n",
    "* additionally the `HadronizationHandler` (for Hadronization) turned on,\n",
    "    \n",
    "* `CascadeHandler` and `HadronizationHandler` and `DecayHandler` (for Hadron-decays) turned on,\n",
    "    \n",
    "* and the full simulation with all switches on (including the `MPIHandler` for Underlying-Event generation). (**Hint**: You already generated this.)\n",
    "    \n",
    "Hence, you will get an incremental representation of an event for each additional generation step.\n",
    "</div>\n",
    "\n",
    "<div class=\"alert alert-info\">\n",
    "<strong>Question 2.3:</strong> \n",
    "    \n",
    "Compare the plots. What do you observe? Why are some arrows black, others colored?\n",
    "    \n",
    "Recall what you learned in the lecture about **parton shower (PS)**, **Hadronization** and **Underlying Event (UE)**. What would be different at an $e^+$-$e^-$-collider like for example LEP? (**Hint**: In case you are clueless: Try to rerun Herwig with the provided **LEP-Matchbox.in** as input to generate events like they would occurr at the LEP-Collider. Compare the event representation with the full simulation of the LHC event.)\n",
    "</div>\n",
    "\n",
    "<div class=\"alert alert-info\">\n",
    "<strong>Question 2.4:</strong> \n",
    "    \n",
    "Explain Asymptotic Freedom and Confinement and how they motivate the observed event generation chain!\n",
    "</div>"
   ]
  },
  {
   "cell_type": "markdown",
   "metadata": {},
   "source": [
    "The structure of Quantum Chromo Dynamics (QCD) as a $SU(3)_\\mathcal{C}$ gauge theory and the consequential interactions of color charged particles lead to an unique phenomena, which is not observed in the other interactions of the SM. \n",
    "The coupling strength of QCD $\\alpha_S$ is large at low energy scales (starting at approximately $\\mathcal{O}(1\\text{GeV})\\cong\\mathcal{O}(1\\text{fb})$ ) and decreases for higher energies. \n",
    "\n",
    "This leads to the fact that a pertubative treatment of interactions which involve color exchanges is only possible in the limit of high energies. \n",
    "There, the color-charged partons can be approximately treated as free particles and the small value of the coupling constant allows a series expansion of the interaction Langragian. \n",
    "This freedom in the **limit of high energies is called Asymptotic Freedom**.\n",
    "\n",
    "**In the other limit** color-charged particles can no more be treated by perturbative means. \n",
    "Additionally, they can not be treated as free particles anymore, since separations of color-charges have reached orders of the proton radius, where the strong force gets large. \n",
    "Consequently, bound color-neutral states of partons are energetically favored.\n",
    "Increasing the energy in such a bound state leads to an increasing number of bound states, since it is favored to generate new particles from the vacuum than seperating the colored partons in such a confined state. \n",
    "This property is called **Confinement**. \n",
    "\n",
    "These properties of QCD are highly motivating the generation of high energy physics events.\n",
    "Since in most cases the interesting processes at high energy colliders involve high momentum transfers, the **starting point of most generations is a hard interaction**.\n",
    "This is computed at any accessible **fixed order of pertubation theory**. \n",
    "At hadron colliders there are always color-charged partons in the initial state involved. \n",
    "Due to the **high momentum transfer of the interaction** these can be **aproximately regarded as asymptotically free**. \n",
    "Nevertheless, they need to originate from a hadron, which is a confined state of QCD. \n",
    "Here the **factorization theorem of QCD** is used to unfold the high energy scale part contributing to the hard interaction from the low energy hadrons by introducing a **parton density function (PDF)**, which is a probabilty density to find a contributing parton within the hadron for a certain momentum transfer and with a certain momentum fraction of the hadron's momentum. \n",
    "\n",
    "The transition between the interacting partons and the remaining hadron remnant, the **transition between hard and soft QCD**, is performed by the Parton Shower (PS). \n",
    "In case of the initial state partons it starts at the hard scale and goes back in time adding $1 \\to 2$ splittings of partons randomly -- the probabilty is **perturbative**ly calculated for each possible splitting -- in such a way, that the overall energy scale of the mother parton is decreasing in each step. \n",
    "This is repeated until the soft scale of the confined hadron is reached.\n",
    "This is called the initial state shower. \n",
    "The subsequent partons (and hadron remnants<sup>2</sup>) as well as any present color-charged particles in the hard-processes' final state are shower forward in time by the same splittings, starting at the scale of the accoring paprton or remnanant and are repeated untill the decreasing scale reaches the soft scale. \n",
    "These showers of partons are called the final state shower.\n",
    "Additionally, the PS provides due to the way it is constructed an approximation to all orders of perturbative QCD in a soft limit.\n",
    "It therefore is equal to a resummation of the leading logarithmic higher order collinear and infrared contributions.\n",
    "\n",
    "<sup>2</sup> Indeed not always as simple, since there is usually also some kind of MPI model involved.\n",
    "\n",
    "The consequent collection of **colored partons at the soft scale are combined to color-neutral hadrons** using an empirically motivated model. \n",
    "This process is called Hadronization. \n",
    "\n",
    "**Unstable hadrons are decayed to more stable hadrons** using a library filled with probabilities for all known hadron decays. \n",
    "This provides a final collection of stable particles originating from a hard interaction, which can be detected in a detector.\n",
    "The outcome of this generation chain is refered to as the hard process or hard event.\n",
    "\n",
    "Finally, **additional semi-hard QCD interactions** are generated by picking partons originating from the hadron remnant for the initial state of the interaction. \n",
    "This is called multiple parton interaction (MPI).\n",
    "These are also passed through the whole generation chain defined above and provide additional particle activity, referred to as the Underlying Event (UE), to the final collection of stable particles of the event."
   ]
  },
  {
   "cell_type": "markdown",
   "metadata": {},
   "source": [
    "## 3. Analyzing Generated Data"
   ]
  },
  {
   "cell_type": "markdown",
   "metadata": {},
   "source": [
    "### Generating at LO Perturbation Theory"
   ]
  },
  {
   "cell_type": "markdown",
   "metadata": {},
   "source": [
    "Now we start studying the kinematic distributions of the generated sample with the full generation procedure. \n",
    "Herwig provides a fully automatic interface for Rivet analyses, which will be fed with events by the generator on runtime. \n",
    "You can list the available analyses by executing"
   ]
  },
  {
   "cell_type": "markdown",
   "metadata": {},
   "source": [
    "`rivet --list-analyses [<OPTIONAL_IDENTIFIER>]`"
   ]
  },
  {
   "cell_type": "code",
   "execution_count": 3,
   "metadata": {},
   "outputs": [
    {
     "name": "stdout",
     "output_type": "stream",
     "text": [
      "CMSTOTEM_2014_I1294140      Charged particle pseudorapidity distribution at sqrt(s)=8 TeV\n",
      "CMS_2010_PAS_QCD_10_024     Pseudorapidity distributions of charged particles at sqrt(s) = 0.9 and 7 TeV\n",
      "CMS_2010_S8547297           Charged particle transverse momentum and pseudorapidity spectra from proton-proton collisions at 900 and 2360 GeV.\n",
      "CMS_2010_S8656010           Charged particle transverse momentum and pseudorapidity spectra from proton-proton collisions at 7000 GeV.\n",
      "CMS_2011_I954992            Exclusive photon-photon production of muon pairs in proton-proton collisions at sqrt(s) = 7 TeV\n",
      "CMS_2011_S8884919           Measurement of the NSD charged particle multiplicity at sqrt(s) = 0.9, 2.36, and 7 TeV with the CMS detector.\n",
      "CMS_2011_S8941262           Production cross-sections of muons from b hadron decays in pp collisions\n",
      "CMS_2011_S8950903           Dijet azimuthal decorrelations in pp collisions at sqrt(s) = 7 TeV\n",
      "CMS_2011_S8957746           Event shapes\n",
      "CMS_2011_S8968497           Measurement of dijet angular distributions and search for quark compositeness in pp collisions at sqrt(s) = 7 TeV\n",
      "CMS_2011_S8973270           B/Bbar angular correlations based on secondary vertex reconstruction in pp collisions\n",
      "CMS_2011_S8978280           K_(s), Λ, and Cascade− transverse momentum and rapidity spectra at 900 and 7000 GeV.\n",
      "CMS_2011_S9086218           Measurement of the inclusive jet cross-section in pp collisions at sqrt(s) = 7 TeV\n",
      "CMS_2011_S9088458           Measurement of ratio of the 3-jet over 2-jet cross section in pp collisions at sqrt(s) = 7 TeV\n",
      "CMS_2011_S9120041           Traditional leading jet UE measurement at sqrt(s) = 0.9 and 7 TeV\n",
      "CMS_2011_S9215166           Forward energy flow in MB and dijet events at 0.9 and 7 TeV\n",
      "CMS_2012_I1087342           Measurement of forward and forward+central jets at sqrt(s) = 7 TeV\n",
      "CMS_2012_I1090423           Dijet angular distributions in pp collisions at sqrt(s) = 7 TeV\n",
      "CMS_2012_I1102908           Measurement of inclusive and exclusive dijet production ratio at large rapidity intervals at center-of-mass energy 7 TeV.\n",
      "CMS_2012_I1107658           Measurement of the underlying event activity in the Drell-Yan process at a centre-of-mass energy of 7 TeV\n",
      "CMS_2012_I1111014           Shape, Transverse Size, and Charged Hadron Multiplicity of Jets in pp Collisions at sqrt(s) = 7 TeV\n",
      "CMS_2012_I1184941           Measurement of the differential cross section for inclusive dijet production as a function of ξ in 7 TeV proton-proton collisions.\n",
      "CMS_2012_I1193338           Measurement of the inelastic proton-proton cross section at sqrt(s) = 7 TeV\n",
      "CMS_2012_I1298807           Inclusive ZZ production cross section and constraints on anomalous triple gauge couplings at 8 TeV\n",
      "CMS_2012_I941555            Measurement of differential Z/γ^(*) p_(T) and y\n",
      "CMS_2012_PAS_FSQ_12_020     Studies of the underlying event at 7 TeV with leading charged particles\n",
      "CMS_2012_PAS_QCD_11_010     [UNVALIDATED]Strange particle production in underlying events in proton–proton collisions at sqrt(s) = 7 TeV\n",
      "CMS_2013_I1122847           Forward-backward asymmetry A_FB in Drell-Yan lepton pairs at sqrt(s) = 7 TeV\n",
      "CMS_2013_I1208923           Jet-pT and dijet mass at sqrt(s) = 7 TeV\n",
      "CMS_2013_I1209721           Azimuthal correlations and event shapes in Z + jets in pp collisions at 7 TeV\n",
      "CMS_2013_I1218372           Study of the underlying event at forward rapidity in proton–proton collisions at the LHC\n",
      "CMS_2013_I1223519           Searches for SUSY using α_(T) and b-quark multiplicity at 8 jet mass measurement in dijet events\n",
      "CMS_2013_I1224539_DIJET     CMS jet mass measurement in W + jet events\n",
      "CMS_2013_I1224539_WJET      CMS jet mass measurement in Z + jet events\n",
      "CMS_2013_I1224539_ZJET      Cross-section and angular correlations in Z boson with b-hadrons events at sqrt(s) = 7 TeV\n",
      "CMS_2013_I1256943           Rapidity distributions in exclusive Z + jet and γ + jet events in pp collisions at sqrt(s) = 7 TeV\n",
      "CMS_2013_I1258128           Jet and underlying event properties as a function of particle multiplicity\n",
      "CMS_2013_I1261026           Probing color coherence effects in pp collisions at sqrt(s) = 7 TeV\n",
      "CMS_2013_I1265659           Study of observables sensitive to double parton scattering in W + 2 jets process in pp collisions at sqrt(s) = 7 TeV\n",
      "CMS_2013_I1272853           Studies of 4-jet production in proton-proton collisions at sqrt(s) = 7 TeV\n",
      "CMS_2013_I1273574           Photon + jets triple differential cross-section\n",
      "CMS_2014_I1266056           Ratios of jet pT spectra, which relate to the ratios of inclusive, differential jet cross sections\n",
      "CMS_2014_I1298810           Differential cross-section of W bosons + jets in pp collisions at sqrt(s) = 7 TeV\n",
      "CMS_2014_I1303894           Study of hadronic event-shape variables in multijet final states in pp collisions at sqrt(s) = 7 TeV\n",
      "CMS_2014_I1305624           Jet multiplicity and differential cross-sections of Z+jets events in pp at sqrt(s) = 7 TeV\n",
      "CMS_2015_I1310737           Search for contact interactions & extra dimensions using dijet angular distributions in proton-proton collisions at sqrt(s) = 8 TeV\n",
      "CMS_2015_I1327224           Measurement of differential cross-section of FSR photons in Z decays\n",
      "CMS_2015_I1346843           Measurement of diffraction dissociation cross sections in pp collisions at sqrt(s)=7 TeV\n",
      "CMS_2015_I1356998           Differential top quark pair production cross-sections in pp collisions at sqrt(s) = 8 TeV\n",
      "CMS_2015_I1370682           Parton-level differential top-quark pair production cross-sections in pp collisions at sqrt(s) = 8TeV\n",
      "CMS_2015_I1370682_PARTON    Per-event yield of the highest transverse momentum charged particle and charged-particle jet\n",
      "CMS_2015_I1380605           Pseudorapidity distribution of charged hadrons in proton–proton collisions at sqrt(s) = 13 TeV\n",
      "CMS_2015_I1384119           Underlying event measurement with leading jets at sqrt(s) = 2.76 of ttbar production with additional jet activity, including b quark jets, in the dilepton decay channel using pp collisions at sqrt(s)=8 TeV\n",
      "CMS_2015_I1385107           Measurements of ttbar spin correlations and top quark polarization using dilepton final states in pp collisions at sqrt(s) = 8 TeV\n",
      "CMS_2015_I1397174           Dijet azimuthal decorrelations in pp collisions at sqrt(s) = 8 TeV\n",
      "CMS_2016_I1413748           Measurements of ttbar charge asymmetry using dilepton final states in pp collisions at sqrt(s) = 8 TeV\n",
      "CMS_2016_I1421646           Boosted ttbar in pp collisions at sqrt(s) = 8 TeV\n",
      "CMS_2016_I1430892           Measurement of the inclusive jet cross-section in pp collisions at sqrt(s) = 13TeV\n",
      "CMS_2016_I1454211           Measurement of the differential cross sections for top quark pair production as a function of kinematic event variables at sqrt(s) = 8 TeV\n",
      "CMS_2016_I1459051           Studies of 2 b-jet + 2 jet production in proton-proton collisions at 7 TeV\n",
      "CMS_2016_I1473674           Measurement and QCD analysis of double-differential inclusive jet cross sections in pp collisions at sqrt(s) = 8TeV and cross section ratios to 2.76 and 7 TeV\n",
      "CMS_2016_I1486238           WZ production cross-section in pp collisions at 8 TeV\n",
      "CMS_2016_I1487277           Differential cross sections for top quark pair production using the lepton+jets final state in proton proton collisions at 13 TeV\n",
      "CMS_2016_I1487288           Differential cross sections for associated production of a W boson and jets at 8 TeV\n",
      "CMS_2016_I1491950           Search for supersymmetry in events with jets and missing transverse momentum at 13 multiplicity in the top-quark pair lepton+jets final state at sqrt(s) = 8 TeV\n",
      "CMS_2016_I1491953           Measurement of the transverse momentum spectrum of the Higgs boson produced in ppcollisions at sqrt(s) = 8 TeV using H to WW decays\n",
      "CMS_2016_PAS_SUS_16_14      Two- and multi-particle angular correlations in pp collisions at sqrt(s) = 13 TeV.\n",
      "CMS_2016_PAS_TOP_15_006     Measurements of the associated production of a Z boson and b jets in pp collisions at sqrt(s) = 8 TeV\n",
      "CMS_2017_I1467451           Measurement of the inclusive energy spectrum in the very forward direction in proton-proton collisions at 13 TeV\n",
      "CMS_2017_I1471287           Differential ttbar production cross-section as a function of the leading jet mass for boosted top quarks at 8 TeV\n",
      "CMS_2017_I1499471           Search for new physics with dijet angular distributions in proton-proton collisions at sqrt(s) = 13TeV\n",
      "CMS_2017_I1511284           Search for SUSY in multijet events with missing transverse momentum in pp collisions at 13 TeV\n",
      "CMS_2017_I1518399           Triple-differential dijet pT cross section and PDF constraints at 8 TeV\n",
      "CMS_2017_I1519995           Measurements of jet charge with dijet events in pp collisions at sqrt(s) = 8 TeV\n",
      "CMS_2017_I1594909           Measurements of differential cross sections for the associated production of a W boson and jets in proton-proton collisions at sqrt(s) = 13 TeV\n",
      "CMS_2017_I1598460           Measurement of the underlying event using inclusive Z-boson production in proton-proton collisions at sqrt(s) = 13 TeV\n",
      "CMS_2017_I1605749           Search for BSM with 2 soft leptons + MET at 13 TeV\n",
      "CMS_2017_I1610623           Measurement of the inelastic proton-proton cross section at 13 TeV\n",
      "CMS_2017_I1635889           Measurement of the differential cross sections of top quark pair production as a function of kinematic event variables in pp collisions at sqrt(s) = 13 TeV\n",
      "CMS_2018_I1646260           Search for new physics in dijet angular distributions using proton-proton collisions at sqrt(s) = 13 TeV and constraints on dark matter and other models\n",
      "CMS_2018_I1653948           Differential cross sections for top quark pair production using the lepton+jets final state in proton proton collisions at 13 TeV\n",
      "CMS_2018_I1662081           Charged particle distributions in different final states at 13 TeV\n",
      "CMS_2018_I1663452           Jet mass in dijet events in pp collisions at 13 TeV\n",
      "CMS_2018_I1663958           Fiducial single-top + photon cross-section measurement at 13 TeV\n",
      "CMS_2018_I1680318           Measurement of jet substructure observables in ttbar events from pp collisions at 13 TeV\n",
      "CMS_2018_I1682495           Energy density vs pseudorapidity in proton-proton collisions at sqrt(s) = 13 TeV\n",
      "(herwig)"
     ]
    },
    {
     "ename": "",
     "evalue": "1",
     "output_type": "error",
     "traceback": []
    }
   ],
   "source": [
    "rivet --list-analyses CMS"
   ]
  },
  {
   "cell_type": "markdown",
   "metadata": {},
   "source": [
    "You can search for analyses containing a certain string in the name, e.g. `CMS` to search for all CMS analyses, by setting the `<OPTIONAL_IDENTIFIER>` to the according string.\n",
    "Alternatively, you can search on the official [Herwig page](https://herwig.hepforge.org/plots/herwig7.2/index.html), where several generations with Herwig are compared (mostly to measured data at the experiments) using the provided Rivet analyses. \n",
    "You will also find there a short description of the analyses and links to the according publications. \n",
    "\n",
    "In your inputfile `LHC-Matchbox.in` there are already three analyses configured:\n",
    "```\n",
    "    insert Rivet:Analyses 0 MC_ZINC_MU\n",
    "    insert Rivet:Analyses 1 MC_ZJETS_MU\n",
    "    insert Rivet:Analyses 2 ATLAS_2017_I1514251\n",
    "    insert /Herwig/Generators/EventGenerator:AnalysisHandlers 0 Rivet\n",
    "```\n",
    "During your previous generation of events these have been run already and produced a set of histograms in the `YODA`-format and saved them in the `<YOUR_GENERATOR_NAME>.yoda` file. \n",
    "\n",
    "To make nice and convenient plots you can just execute"
   ]
  },
  {
   "cell_type": "markdown",
   "metadata": {},
   "source": [
    "`rivet-mkhtml [<OPTIONS>] <yodafile1>[:\"<PLOT_OPTIONS>\"] [<yodafile2> ...]`"
   ]
  },
  {
   "cell_type": "markdown",
   "metadata": {},
   "source": [
    "This will automatically plot the histograms with optional tweaks set by the `<PLOT_OPTIONS>`. You can find an example of possible plotting options on the [make-plots documentation page](https://gitlab.com/hepcedar/rivet/-/blob/master/doc/tutorials/makeplots.md). \n",
    "For example to scale the normalization of all histograms by a factor of `X` and label the histograms from a specific `<yodafile>` with a title `Scaled by factor X` you can execute"
   ]
  },
  {
   "cell_type": "markdown",
   "metadata": {},
   "source": [
    "`rivet-mkhtml <yodafile>:\"Scale=X:Title=Scaled by factor X\"`"
   ]
  },
  {
   "cell_type": "code",
   "execution_count": 7,
   "metadata": {},
   "outputs": [
    {
     "name": "stdout",
     "output_type": "stream",
     "text": [
      "Making 59 plots\n",
      "WARNING: NaN-valued value or error bar!\n",
      "WARNING: NaN-valued value or error bar!\n",
      "WARNING: NaN-valued value or error bar!\n",
      "WARNING: NaN-valued value or error bar!\n",
      "WARNING: NaN-valued value or error bar!\n",
      "WARNING: NaN-valued value or error bar!\n",
      "Plotting ./rivet-plots/ATLAS_2017_I1514251/d03-x01-y01.dat (59/59 remaining)\n",
      "Plotting ./rivet-plots/ATLAS_2017_I1514251/d06-x01-y01.dat (58/59 remaining)\n",
      "Plotting ./rivet-plots/ATLAS_2017_I1514251/d09-x01-y01.dat (57/59 remaining)\n",
      "Plotting ./rivet-plots/ATLAS_2017_I1514251/d12-x01-y01.dat (56/59 remaining)\n",
      "Plotting ./rivet-plots/ATLAS_2017_I1514251/d15-x01-y01.dat (55/59 remaining)\n",
      "Plotting ./rivet-plots/ATLAS_2017_I1514251/d18-x01-y01.dat (54/59 remaining)\n",
      "Plotting ./rivet-plots/ATLAS_2017_I1514251/d21-x01-y01.dat (53/59 remaining)\n",
      "Plotting ./rivet-plots/ATLAS_2017_I1514251/d24-x01-y01.dat (52/59 remaining)\n",
      "Plotting ./rivet-plots/ATLAS_2017_I1514251/d27-x01-y01.dat (51/59 remaining)\n",
      "Plotting ./rivet-plots/ATLAS_2017_I1514251/d30-x01-y01.dat (50/59 remaining)\n",
      "Plotting ./rivet-plots/ATLAS_2017_I1514251/d33-x01-y01.dat (49/59 remaining)\n",
      "Plotting ./rivet-plots/ATLAS_2017_I1514251/d36-x01-y01.dat (48/59 remaining)\n",
      "Plotting ./rivet-plots/MC_ZINC_MU/Z_mass.dat (47/59 remaining)\n",
      "Plotting ./rivet-plots/MC_ZINC_MU/Z_pT.dat (46/59 remaining)\n",
      "Plotting ./rivet-plots/MC_ZINC_MU/Z_pT_peak.dat (45/59 remaining)\n",
      "Plotting ./rivet-plots/MC_ZINC_MU/Z_phi.dat (44/59 remaining)\n",
      "Plotting ./rivet-plots/MC_ZINC_MU/Z_y.dat (43/59 remaining)\n",
      "Plotting ./rivet-plots/MC_ZINC_MU/lepton_eta.dat (42/59 remaining)\n",
      "Plotting ./rivet-plots/MC_ZINC_MU/lepton_pT.dat (41/59 remaining)\n",
      "Plotting ./rivet-plots/MC_ZJETS_MU/Z_jet1_dR.dat (40/59 remaining)\n",
      "Plotting ./rivet-plots/MC_ZJETS_MU/Z_jet1_deta.dat (39/59 remaining)\n",
      "Plotting ./rivet-plots/MC_ZJETS_MU/jet_HT.dat (38/59 remaining)\n",
      "Plotting ./rivet-plots/MC_ZJETS_MU/jet_eta_1.dat (37/59 remaining)\n",
      "Plotting ./rivet-plots/MC_ZJETS_MU/jet_eta_2.dat (36/59 remaining)\n",
      "Plotting ./rivet-plots/MC_ZJETS_MU/jet_eta_3.dat (35/59 remaining)\n",
      "Plotting ./rivet-plots/MC_ZJETS_MU/jet_eta_4.dat (34/59 remaining)\n",
      "Plotting ./rivet-plots/MC_ZJETS_MU/jet_eta_pmratio_1.dat (33/59 remaining)\n",
      "Plotting ./rivet-plots/MC_ZJETS_MU/jet_eta_pmratio_2.dat (32/59 remaining)\n",
      "Plotting ./rivet-plots/MC_ZJETS_MU/jet_eta_pmratio_3.dat (31/59 remaining)\n",
      "Plotting ./rivet-plots/MC_ZJETS_MU/jet_eta_pmratio_4.dat (30/59 remaining)\n",
      "Plotting ./rivet-plots/MC_ZJETS_MU/jet_mass_1.dat (29/59 remaining)\n",
      "Plotting ./rivet-plots/MC_ZJETS_MU/jet_mass_2.dat (28/59 remaining)\n",
      "Plotting ./rivet-plots/MC_ZJETS_MU/jet_mass_3.dat (27/59 remaining)\n",
      "Plotting ./rivet-plots/MC_ZJETS_MU/jet_mass_4.dat (26/59 remaining)\n",
      "Plotting ./rivet-plots/MC_ZJETS_MU/jet_multi_exclusive.dat (25/59 remaining)\n",
      "Plotting ./rivet-plots/MC_ZJETS_MU/jet_multi_inclusive.dat (24/59 remaining)\n",
      "Plotting ./rivet-plots/MC_ZJETS_MU/jet_multi_ratio.dat (23/59 remaining)\n",
      "Plotting ./rivet-plots/MC_ZJETS_MU/jet_pT_1.dat (22/59 remaining)\n",
      "Plotting ./rivet-plots/MC_ZJETS_MU/jet_pT_2.dat (21/59 remaining)\n",
      "Plotting ./rivet-plots/MC_ZJETS_MU/jet_pT_3.dat (20/59 remaining)\n",
      "Plotting ./rivet-plots/MC_ZJETS_MU/jet_pT_4.dat (19/59 remaining)\n",
      "Plotting ./rivet-plots/MC_ZJETS_MU/jet_y_1.dat (18/59 remaining)\n",
      "Plotting ./rivet-plots/MC_ZJETS_MU/jet_y_2.dat (17/59 remaining)\n",
      "Plotting ./rivet-plots/MC_ZJETS_MU/jet_y_3.dat (16/59 remaining)\n",
      "Plotting ./rivet-plots/MC_ZJETS_MU/jet_y_4.dat (15/59 remaining)\n",
      "Plotting ./rivet-plots/MC_ZJETS_MU/jet_y_pmratio_1.dat (14/59 remaining)\n",
      "Plotting ./rivet-plots/MC_ZJETS_MU/jet_y_pmratio_2.dat (13/59 remaining)\n",
      "Plotting ./rivet-plots/MC_ZJETS_MU/jet_y_pmratio_3.dat (12/59 remaining)\n",
      "Plotting ./rivet-plots/MC_ZJETS_MU/jet_y_pmratio_4.dat (11/59 remaining)\n",
      "Plotting ./rivet-plots/MC_ZJETS_MU/jets_dR_12.dat (10/59 remaining)\n",
      "Plotting ./rivet-plots/MC_ZJETS_MU/jets_dR_13.dat (9/59 remaining)\n",
      "Plotting ./rivet-plots/MC_ZJETS_MU/jets_dR_23.dat (8/59 remaining)\n",
      "Plotting ./rivet-plots/MC_ZJETS_MU/jets_deta_12.dat (7/59 remaining)\n",
      "Plotting ./rivet-plots/MC_ZJETS_MU/jets_deta_13.dat (6/59 remaining)\n",
      "Plotting ./rivet-plots/MC_ZJETS_MU/jets_deta_23.dat (5/59 remaining)\n",
      "Plotting ./rivet-plots/MC_ZJETS_MU/jets_dphi_12.dat (4/59 remaining)\n",
      "Plotting ./rivet-plots/MC_ZJETS_MU/jets_dphi_13.dat (3/59 remaining)\n",
      "Plotting ./rivet-plots/MC_ZJETS_MU/jets_dphi_23.dat (2/59 remaining)\n",
      "Plotting ./rivet-plots/MC_ZJETS_MU/jets_mjj.dat (1/59 remaining)\n",
      "(herwig)"
     ]
    },
    {
     "ename": "",
     "evalue": "1",
     "output_type": "error",
     "traceback": []
    }
   ],
   "source": [
    "rivet-mkhtml LHC-Matchbox-Solution.yoda:\"Scale=2:Title=LO\""
   ]
  },
  {
   "cell_type": "markdown",
   "metadata": {},
   "source": [
    "The generated plots can be found by default in the new `rivet-plots` directory.\n",
    "There you can find also `rivet-plots/<ANALYSIS>/index.html` files for each analysis, which you can open in a new browser tab, to get a neat webpage to maneuver through your plots.\n",
    "Alternatively, you can navigate through the file browser of **Jupyter** and open the output `.pdf` files one by one."
   ]
  },
  {
   "cell_type": "markdown",
   "metadata": {},
   "source": [
    "<div class=\"alert alert-info\">\n",
    "<strong>Question 3.1:</strong> \n",
    "    \n",
    "Plot the histograms of the kinematic observables implemented in the three Rivet analyses for your LO generation of ten thousand events using the `rivet-mkhtml` script! \n",
    "</div>\n",
    "\n",
    "<div class=\"alert alert-info\">\n",
    "<strong>Question 3.2:</strong> \n",
    "    \n",
    "Look at the kinematic properties of the generated MC events:\n",
    "    \n",
    "* Where is the peak in the invariant mass distribution of the reconstructed $Z^0$-boson? How is it computed\n",
    "    \n",
    "* How are the azimuthal angle and the transverse momentum of the $Z^0$-boson distributed? Why is the transverse momentum of the $Z^0$-boson not zero?\n",
    "    \n",
    "* How is the transverse momentum of the muons distributed? Why does the distribution peak at the observed value?\n",
    "    \n",
    "* How many jets in addition to the $Z^0$-boson do you expect? What do you observe? Why?\n",
    "</div>"
   ]
  },
  {
   "cell_type": "markdown",
   "metadata": {},
   "source": [
    "The invariant mass of the $Z^0$-boson is reconstructed from it's decay products, the oppositely charged muon pair:\n",
    "${m^2_Z} = p_Z^2 = (p_{\\mu^-} + p_{\\mu^+})^2$\n",
    "\n",
    "It peaks, as can be observed in the figure below, at the $Z^0$-boson mass of 91.2GeV, since the transition amplitude squared peaks at the pole mass of the force carrier (Breit-Wigner-Resonance):\n",
    "\n",
    "![Distribution of the invariant mass of the oppositely charged lepton pair.](figures/Z_mass.png)\n",
    "\n",
    "As expected, you can observe in the figure below, that there is no preferred direction in the azimuthal plane, since the cylindrical symmety of the collider is invariant under azimuthal rotations.\n",
    "\n",
    "![Distribution of the azimuthal angle of the oppositely charged lepton pair.](figures/Z_phi.png)\n",
    "\n",
    "Due to the final available energy in the collision the available phase-space for final states with high momenta drops rapidly with increasing $p_T$ of the final state particles. \n",
    "This can be observed in the figure below, where the transverse momentum drops rapidly for high $p_T$ but also has a steap fall at approximately $p_T=100\\text{GeV}$ . \n",
    "Nonetheless, since there is no other final state object generated at LO, one would expect zero $p_T$ for the $Z^0$-boson, which is generated by the fusion of the quark-antiquark-pair, approximately without any intrinsic $p_T$. \n",
    "This is explained by taking into account, that the PS (and to a certain extend UE) include additional hadronic activity, which has to be balanced with the generated $Z^0$-boson.\n",
    "Of course this additional $p_T$ should not go beyond a certain (PS-)scale (in our case the invariant mass of the lepton pair), since the PS is merely an approximate approach to take contributions of higher orders in perturbative QCD in a rather soft regime into account and should not be able to significantly influence the generation of hard observables. \n",
    "This is why both the $p_T$ of the $Z^0$ and the leading jet fall steaply at approximately 100GeV. \n",
    "\n",
    "![Distribution of the transverse momentum of the oppositely charged lepton pair.](figures/Z_pT.png)  \n",
    "\n",
    "You can observe in the figure below that the muon $p_T$ peaks approximately at half the $Z^0$-boson mass. \n",
    "Clearly, this is due to the fact, that the $Z^0$-boson decays in its center-of-mass frame back-to-back into the two leptons, which therefore share approximately half the $Z^0$-boson mass each as momentum.\n",
    "Boosting this frame in the beam direction leaves the $p_T$ of the leptons untouched.\n",
    "This peak structure of course gets distorted by the additional $p_T$ of the $Z^0$-boson discussed above.\n",
    "\n",
    "![Distribution of the transverse momenta of the charged leptons.](figures/lepton_pT.png) \n",
    "\n",
    "The cross-section for additional jets, which are generated in the PS or the UE since there is no hard ME at LO, which includes additional color charged particles in the final state, drops rapidly. \n",
    "It can be observed in the figure below. \n",
    "\n",
    "![Distribution of the exclusive cross-section for events with additional jets.](figures/jet_multi_exclusive.png)"
   ]
  },
  {
   "cell_type": "markdown",
   "metadata": {},
   "source": [
    "<div class=\"alert alert-info\">\n",
    "<strong>Question 3.3:</strong> \n",
    "    \n",
    "Compare the generated distributions to the ones measured by the ATLAS Collaboration with the Rivet analysis `ATLAS_2017_I1514251` of the publication [Eur. Phys. J. C77 (2017) 361](https://inspirehep.net/literature/1514251) !\n",
    "    \n",
    "* Since the measurement selects events with two oppositely charged muons **or** electrons you need to scale your generated histograms to cope for the fact, that you generated only events with an oppositely charged muon pair. What is the scaling factor? Why? **Hint**: Remember the lepton universality of the SM.\n",
    "    \n",
    "* How well are the multiplicity of additional jets and their transverse momenta described? Explain!\n",
    "</div>"
   ]
  },
  {
   "cell_type": "markdown",
   "metadata": {},
   "source": [
    "\n",
    "Since the coupling of charged leptons to the electroweak bosons is equal for all lepton flavors (lepton universality), it is a good approximation to assume that the production of electron-pairs leads to the same observable distributions. \n",
    "Remaining differences, which are due to different phase-space contributions because of the different masses of the electron and muon are neglected here.\n",
    "Therefore the scaling of the histograms with a **factor of 2** should lead to a sufficient approximation.\n",
    "\n",
    "In the two figures below you can observe, that the generated events with LO accuracy are **hardly describing the cross-section for events with no additional jet** and **fail for events with one or more jets**.\n",
    "Unsurpisingly, the kinematic observables of the leading jet can also not be described.\n",
    "Indeed, the leading jet $p_T$ drops drastically.\n",
    "\n",
    "![Comparison of `p p -> mu+ mu-` events generated with Herwig at LO and NLO accuracy with the exclusive jet multiplicity measured by the ATLAS collaboration](figures/ATLAS_jet_multi_exclusive.png)\n",
    "\n",
    "![Comparison of `p p -> mu+ mu-` events generated with Herwig at LO and NLO accuracy with the leading jet transverse momentum measured by the ATLAS collaboration](figures/ATLAS_leadjet_pT.png)\n",
    "\n",
    "Since the LO generation doesn't include any jets in the hard MEs, this observation is expected. If there is any additional jet it gets clustered from PS and UE particles. These should not contribute significantly to hard observables like jets."
   ]
  },
  {
   "cell_type": "markdown",
   "metadata": {},
   "source": [
    "### Generating at NLO Perturbation theory\n",
    "\n",
    "Try to improve on the description of measured data by running a generation at next-to-leading order (NLO) in perturbative QCD. \n",
    "Uncomment line 101 (`read Matchbox/MCatNLO-DefaultShower.in`) and comment line 104 (`read Matchbox/MCatLO-DefaultShower.in`) to set the ME generation to NLO QCD.\n",
    "\n",
    "To prevent overwriting your previous generated outputs, set `<YOUR_GENERATOR_NAME>` in line 151 to a new value. We need both the LO and NLO simulation later in the exercise."
   ]
  },
  {
   "cell_type": "markdown",
   "metadata": {
    "tags": []
   },
   "source": [
    "<div class=\"alert alert-info\">\n",
    "<strong>Question 3.4:</strong> \n",
    "    \n",
    "Rerun the `Herwig read` and `Herwig run` steps to generate another ten thousand events at NLO perturbative QCD. \n",
    "</div>"
   ]
  },
  {
   "cell_type": "code",
   "execution_count": 37,
   "metadata": {},
   "outputs": [
    {
     "name": "stdout",
     "output_type": "stream",
     "text": [
      "determining subprocesses for p p mu+ mu- \n",
      "building matrix elements.\n",
      "0%   10   20   30   40   50   60   70   80   90   100%\n",
      "|----|----|----|----|----|----|----|----|----|----|\n",
      "***************************************************\n",
      "created 10 subprocesses.\n",
      "---------------------------------------------------\n",
      "determining subprocesses for p p mu+ mu- j \n",
      "building matrix elements.\n",
      "0%   10   20   30   40   50   60   70   80   90   100%\n",
      "|----|----|----|----|----|----|----|----|----|----|\n",
      "***************************************************\n",
      "created 30 subprocesses.\n",
      "---------------------------------------------------\n",
      "preparing Born and virtual matrix elements.\n",
      "\n",
      "0%   10   20   30   40   50   60   70   80   90   100%\n",
      "|----|----|----|----|----|----|----|----|----|----|\n",
      "***************************************************\n",
      "---------------------------------------------------\n",
      "preparing subtracted matrix elements.\n",
      "\n",
      "0%   10   20   30   40   50   60   70   80   90   100%\n",
      "|----|----|----|----|----|----|----|----|----|----|\n",
      "***************************************************\n",
      "---------------------------------------------------\n",
      "Process setup finished.\n",
      "\n",
      "The MCnet usage guidelines apply to Rivet: see http://www.montecarlonet.org/GUIDELINES\n",
      "Please acknowledge Rivet in results made using it, and cite https://arxiv.org/abs/1912.05451\n",
      "integrating subprocesses\n",
      "0%   10   20   30   40   50   60   70   80   90   100%\n",
      "|----|----|----|----|----|----|----|----|----|----|\n",
      "***************************************************\n",
      "(herwig)"
     ]
    },
    {
     "ename": "",
     "evalue": "1",
     "output_type": "error",
     "traceback": []
    }
   ],
   "source": [
    "Herwig read LHC-Matchbox-Solution-NLO.in"
   ]
  },
  {
   "cell_type": "code",
   "execution_count": 38,
   "metadata": {},
   "outputs": [
    {
     "name": "stdout",
     "output_type": "stream",
     "text": [
      "event>         0/10000; xs = 5.5272e+06 pb +- 5.5272e+06 pb\n",
      "\u001b[0;32mRivet.Analysis.Handler: INFO \u001b[0m Using named weights\n",
      "event>         1/10000; xs = 33498.2 pb +- 33498.2 pb\n",
      "event>         2/10000; xs = 5933.65 pb +- 4194.6 pb\n",
      "event>         5/10000; xs = 2472.58 pb +- 1105.57 pb\n",
      "event>        10/10000; xs = 1330.17 pb +- 1051.57 pb\n",
      "event>        20/10000; xs = 2090.35 pb +- 667.66 pb\n",
      "event>        50/10000; xs = 2150.43 pb +- 422.327 pb\n",
      "event>       100/10000; xs = 1686.14 pb +- 280.998 pb\n",
      "event>       200/10000; xs = 2058.78 pb +- 207.941 pb\n",
      "event>       300/10000; xs = 1892.96 pb +- 157.611 pb\n",
      "event>       400/10000; xs = 1752.86 pb +- 130.796 pb\n",
      "event>       500/10000; xs = 1764 pb +- 114.651 pb\n",
      "event>       600/10000; xs = 1798.52 pb +- 107.438 pb\n",
      "event>       700/10000; xs = 1868.04 pb +- 100.036 pb\n",
      "event>       800/10000; xs = 1886.21 pb +- 94.2469 pb\n",
      "event>       900/10000; xs = 1932.04 pb +- 90.2711 pb\n",
      "event>      1000/10000; xs = 1852.09 pb +- 83.4217 pb\n",
      "event>      1100/10000; xs = 1877.08 pb +- 79.8063 pb\n",
      "event>      1200/10000; xs = 1823.24 pb +- 75.1775 pb\n",
      "event>      1300/10000; xs = 1826.15 pb +- 71.5582 pb\n",
      "event>      1400/10000; xs = 1849.62 pb +- 69.4748 pb\n",
      "event>      1500/10000; xs = 1854.72 pb +- 67.5026 pb\n",
      "event>      1600/10000; xs = 1864.75 pb +- 65.6513 pb\n",
      "event>      1700/10000; xs = 1882.67 pb +- 64.3563 pb\n",
      "event>      1800/10000; xs = 1885.04 pb +- 62.7665 pb\n",
      "event>      1900/10000; xs = 1893.3 pb +- 61.3956 pb\n",
      "event>      2000/10000; xs = 1916.86 pb +- 60.2761 pb\n",
      "event>      2100/10000; xs = 1914.61 pb +- 59.1943 pb\n",
      "event>      2200/10000; xs = 1897.13 pb +- 57.6111 pb\n",
      "event>      2300/10000; xs = 1910.05 pb +- 56.6656 pb\n",
      "event>      2400/10000; xs = 1924.87 pb +- 55.584 pb\n",
      "event>      2500/10000; xs = 1921.12 pb +- 54.4985 pb\n",
      "event>      2600/10000; xs = 1907.68 pb +- 53.3124 pb\n",
      "event>      2700/10000; xs = 1905.75 pb +- 52.4329 pb\n",
      "event>      2800/10000; xs = 1902.39 pb +- 51.4481 pb\n",
      "event>      2900/10000; xs = 1891.18 pb +- 50.3512 pb\n",
      "event>      3000/10000; xs = 1893.66 pb +- 49.2822 pb\n",
      "event>      3100/10000; xs = 1900.65 pb +- 48.441 pb\n",
      "event>      3200/10000; xs = 1903.88 pb +- 47.769 pb\n",
      "event>      3300/10000; xs = 1909.48 pb +- 47.1869 pb\n",
      "event>      3400/10000; xs = 1910 pb +- 46.6362 pb\n",
      "event>      3500/10000; xs = 1899.5 pb +- 45.9776 pb\n",
      "event>      3600/10000; xs = 1893.01 pb +- 45.3565 pb\n",
      "event>      3700/10000; xs = 1879.33 pb +- 44.4427 pb\n",
      "event>      3800/10000; xs = 1877.22 pb +- 43.863 pb\n",
      "event>      3900/10000; xs = 1885.73 pb +- 43.516 pb\n",
      "event>      4000/10000; xs = 1884.95 pb +- 42.9715 pb\n",
      "event>      4100/10000; xs = 1879.48 pb +- 42.3708 pb\n",
      "event>      4200/10000; xs = 1874.3 pb +- 41.8225 pb\n",
      "event>      4300/10000; xs = 1875.37 pb +- 41.345 pb\n",
      "event>      4400/10000; xs = 1880.65 pb +- 40.8961 pb\n",
      "event>      4500/10000; xs = 1875.35 pb +- 40.4976 pb\n",
      "event>      4600/10000; xs = 1868.86 pb +- 40.0298 pb\n",
      "event>      4700/10000; xs = 1857.02 pb +- 39.5806 pb\n",
      "event>      4800/10000; xs = 1861.85 pb +- 39.2492 pb\n",
      "event>      4900/10000; xs = 1867.56 pb +- 38.8786 pb\n",
      "event>      5000/10000; xs = 1875.6 pb +- 38.6156 pb\n",
      "event>      5100/10000; xs = 1880.06 pb +- 38.3117 pb\n",
      "event>      5200/10000; xs = 1883.76 pb +- 37.96 pb\n",
      "event>      5300/10000; xs = 1881.11 pb +- 37.6379 pb\n",
      "event>      5400/10000; xs = 1872.78 pb +- 37.1492 pb\n",
      "event>      5500/10000; xs = 1871.87 pb +- 36.8564 pb\n",
      "event>      5600/10000; xs = 1880.2 pb +- 36.693 pb\n",
      "event>      5700/10000; xs = 1879.91 pb +- 36.4056 pb\n",
      "event>      5800/10000; xs = 1867.34 pb +- 35.9067 pb\n",
      "event>      5900/10000; xs = 1873.08 pb +- 35.6601 pb\n",
      "event>      6000/10000; xs = 1875.42 pb +- 35.3746 pb\n",
      "event>      6100/10000; xs = 1880.86 pb +- 35.1218 pb\n",
      "event>      6200/10000; xs = 1878.2 pb +- 34.8637 pb\n",
      "event>      6300/10000; xs = 1879.52 pb +- 34.5814 pb\n",
      "event>      6400/10000; xs = 1867.54 pb +- 34.1887 pb\n",
      "event>      6500/10000; xs = 1863.51 pb +- 33.9451 pb\n",
      "event>      6600/10000; xs = 1865.02 pb +- 33.6551 pb\n",
      "event>      6700/10000; xs = 1870.29 pb +- 33.4404 pb\n",
      "event>      6800/10000; xs = 1867.6 pb +- 33.2196 pb\n",
      "event>      6900/10000; xs = 1867.77 pb +- 33.0102 pb\n",
      "event>      7000/10000; xs = 1865.82 pb +- 32.8088 pb\n",
      "event>      7100/10000; xs = 1861.67 pb +- 32.6257 pb\n",
      "event>      7200/10000; xs = 1860.06 pb +- 32.3684 pb\n",
      "event>      7300/10000; xs = 1856.04 pb +- 32.1006 pb\n",
      "event>      7400/10000; xs = 1854.82 pb +- 31.8852 pb\n",
      "event>      7500/10000; xs = 1852.91 pb +- 31.6869 pb\n",
      "event>      7600/10000; xs = 1845.84 pb +- 31.428 pb\n",
      "event>      7700/10000; xs = 1850.75 pb +- 31.2303 pb\n",
      "event>      7800/10000; xs = 1851.97 pb +- 31.0472 pb\n",
      "event>      7900/10000; xs = 1850.38 pb +- 30.7978 pb\n",
      "event>      8000/10000; xs = 1857.78 pb +- 30.6342 pb\n",
      "event>      8100/10000; xs = 1854.42 pb +- 30.3884 pb\n",
      "event>      8200/10000; xs = 1855.09 pb +- 30.2232 pb\n",
      "event>      8300/10000; xs = 1856.14 pb +- 30.0671 pb\n",
      "event>      8400/10000; xs = 1858.13 pb +- 29.9289 pb\n",
      "event>      8500/10000; xs = 1859.99 pb +- 29.7188 pb\n",
      "event>      8600/10000; xs = 1856.32 pb +- 29.4861 pb\n",
      "event>      8700/10000; xs = 1857.02 pb +- 29.3366 pb\n",
      "event>      8800/10000; xs = 1853.94 pb +- 29.179 pb\n",
      "event>      8900/10000; xs = 1852.79 pb +- 28.9377 pb\n",
      "event>      9000/10000; xs = 1854.65 pb +- 28.7952 pb\n",
      "event>      9100/10000; xs = 1859.77 pb +- 28.6596 pb\n",
      "event>      9200/10000; xs = 1863.96 pb +- 28.5221 pb\n",
      "event>      9300/10000; xs = 1862.33 pb +- 28.362 pb\n",
      "event>      9400/10000; xs = 1861.75 pb +- 28.2111 pb\n",
      "event>      9500/10000; xs = 1862.1 pb +- 28.12 pb\n",
      "event>      9600/10000; xs = 1863.3 pb +- 28.0015 pb\n",
      "event>      9700/10000; xs = 1862.93 pb +- 27.8256 pb\n",
      "event>      9800/10000; xs = 1857.84 pb +- 27.6489 pb\n",
      "event>      9900/10000; xs = 1858.64 pb +- 27.553 pb\n",
      "event>      9950/10000; xs = 1861.44 pb +- 27.5247 pb\n",
      "event>      9980/10000; xs = 1861.8 pb +- 27.4899 pb\n",
      "event>      9990/10000; xs = 1861.52 pb +- 27.467 pb\n",
      "event>      9995/10000; xs = 1861.92 pb +- 27.4597 pb\n",
      "event>      9998/10000; xs = 1862.4 pb +- 27.4587 pb\n",
      "event>      9999/10000; xs = 1862.59 pb +- 27.4588 pb\n",
      "event>     10000/10000; xs = 1862.41 pb +- 27.4535 pb\n",
      "\n",
      "\n",
      "GraphvizPlot: plots can be generated like this:\n",
      "GraphvizPlot: 'dot -Tsvg ./LHC-Matchbox-Solution-NLO-Plot-1.dot > plot.svg'\n",
      "\n",
      "BasicConsistency: maximum 4-momentum violation: \u001b[34m0.368 MeV\n",
      "\u001b[0m\n",
      "The MCnet usage guidelines apply to Rivet: see http://www.montecarlonet.org/GUIDELINES\n",
      "Please acknowledge Rivet in results made using it, and cite https://arxiv.org/abs/1912.05451\n",
      "\n",
      "(herwig)"
     ]
    },
    {
     "ename": "",
     "evalue": "1",
     "output_type": "error",
     "traceback": []
    }
   ],
   "source": [
    "Herwig run LHC-Matchbox-Solution-NLO.run -N 10000"
   ]
  },
  {
   "cell_type": "markdown",
   "metadata": {},
   "source": [
    "<div class=\"alert alert-info\">\n",
    "<strong>Question 3.5:</strong> \n",
    "    \n",
    "How many subprocesses have to be calculated for the NLO generation? What are the corresponding Feynman diagrams?\n",
    "</div>"
   ]
  },
  {
   "cell_type": "markdown",
   "metadata": {},
   "source": [
    "Herwig calculates for the NLO corrections 30 additional subprocesses for the real emissions of quarks and gluons. \n",
    "Looking into the `<YOUR-GENERATOR_NAME>.out` file reveals that internally there are 70 subprocesses, which are contributing.\n",
    "This is due to the internal splitting and summarization of Herwig.\n",
    "Indeed, without the splittings you should easily be able to find **one virtual and four real corrections** per initial state quark flavor, as shown in the figures below, showing the virtual and real corrections to the LO DY Feynman graph. For the real corrections there exist two more with the corresponding anti-quarks in the initial state:\n",
    "\n",
    "***\n",
    "\n",
    "**Virtual correction:**\n",
    "\n",
    "<img src=\"figures/feynmanDY_virt.png\" width=\"25%\" height=\"25%\">\n",
    "\n",
    "***\n",
    "\n",
    "**Real gluon emission:**\n",
    "\n",
    "<img src=\"figures/feynmanDY_realGlu.png\" width=\"25%\" height=\"25%\">\n",
    "\n",
    "***\n",
    "\n",
    "**Real quark emission:**\n",
    "\n",
    "<img src=\"figures/feynmanDY_realq.png\" width=\"25%\" height=\"25%\">\n",
    "\n",
    "***"
   ]
  },
  {
   "cell_type": "markdown",
   "metadata": {},
   "source": [
    "<div class=\"alert alert-info\">\n",
    "<strong>Question 3.6:</strong> \n",
    "    \n",
    "What is the NLO cross-section for this process?\n",
    "</div>"
   ]
  },
  {
   "cell_type": "markdown",
   "metadata": {},
   "source": [
    "The NLO cross-section calculated by Herwig is $\\sigma_\\text{NLO} \\approx 1810\\pm30\\text{pb}$ . This is approximately **25\\% higher than the LO cross-section**, which is sufficient to get a much better agreement to the measured cross-section for no additional jets (compare first bin in the figure below):\n",
    "\n",
    "![The cross-section for 0 jet multiplicity is much better described by the NLO prediction.](figures/ATLAS_jet_multi_exclusive.png)"
   ]
  },
  {
   "cell_type": "markdown",
   "metadata": {},
   "source": [
    "<div class=\"alert alert-info\">\n",
    "<strong>Question 3.7:</strong> \n",
    "    \n",
    "Plot the generated histogram for the jet multiplicity and transverse momentum distribution of the $Z^0$-boson (Rivet analysis `MC_ZINC_MU`) and the leading jet (Rivet analysis `MC_ZJETS_MU`) and compare them to the data and LO predictions you generated earlier. What do you observe? Why?\n",
    "</div>"
   ]
  },
  {
   "cell_type": "code",
   "execution_count": 8,
   "metadata": {},
   "outputs": [
    {
     "name": "stdout",
     "output_type": "stream",
     "text": [
      "Making 59 plots\n",
      "WARNING: NaN-valued value or error bar!\n",
      "WARNING: NaN-valued value or error bar!\n",
      "WARNING: NaN-valued value or error bar!\n",
      "WARNING: NaN-valued value or error bar!\n",
      "WARNING: NaN-valued value or error bar!\n",
      "WARNING: NaN-valued value or error bar!\n",
      "WARNING: NaN-valued value or error bar!\n",
      "WARNING: NaN-valued value or error bar!\n",
      "WARNING: NaN-valued value or error bar!\n",
      "WARNING: NaN-valued value or error bar!\n",
      "WARNING: NaN-valued value or error bar!\n",
      "WARNING: NaN-valued value or error bar!\n",
      "WARNING: NaN-valued value or error bar!\n",
      "WARNING: NaN-valued value or error bar!\n",
      "WARNING: NaN-valued value or error bar!\n",
      "WARNING: NaN-valued value or error bar!\n",
      "WARNING: NaN-valued value or error bar!\n",
      "WARNING: NaN-valued value or error bar!\n",
      "WARNING: NaN-valued value or error bar!\n",
      "WARNING: NaN-valued value or error bar!\n",
      "WARNING: NaN-valued value or error bar!\n",
      "WARNING: NaN-valued value or error bar!\n",
      "WARNING: NaN-valued value or error bar!\n",
      "WARNING: NaN-valued value or error bar!\n",
      "WARNING: NaN-valued value or error bar!\n",
      "WARNING: NaN-valued value or error bar!\n",
      "WARNING: NaN-valued value or error bar!\n",
      "WARNING: NaN-valued value or error bar!\n",
      "Plotting ./rivet-plots/ATLAS_2017_I1514251/d03-x01-y01.dat (59/59 remaining)\n",
      "Plotting ./rivet-plots/ATLAS_2017_I1514251/d06-x01-y01.dat (58/59 remaining)\n",
      "Plotting ./rivet-plots/ATLAS_2017_I1514251/d09-x01-y01.dat (57/59 remaining)\n",
      "Plotting ./rivet-plots/ATLAS_2017_I1514251/d12-x01-y01.dat (56/59 remaining)\n",
      "Plotting ./rivet-plots/ATLAS_2017_I1514251/d15-x01-y01.dat (55/59 remaining)\n",
      "Plotting ./rivet-plots/ATLAS_2017_I1514251/d18-x01-y01.dat (54/59 remaining)\n",
      "Plotting ./rivet-plots/ATLAS_2017_I1514251/d21-x01-y01.dat (53/59 remaining)\n",
      "Plotting ./rivet-plots/ATLAS_2017_I1514251/d24-x01-y01.dat (52/59 remaining)\n",
      "Plotting ./rivet-plots/ATLAS_2017_I1514251/d27-x01-y01.dat (51/59 remaining)\n",
      "Plotting ./rivet-plots/ATLAS_2017_I1514251/d30-x01-y01.dat (50/59 remaining)\n",
      "Plotting ./rivet-plots/ATLAS_2017_I1514251/d33-x01-y01.dat (49/59 remaining)\n",
      "Plotting ./rivet-plots/ATLAS_2017_I1514251/d36-x01-y01.dat (48/59 remaining)\n",
      "Plotting ./rivet-plots/MC_ZINC_MU/Z_mass.dat (47/59 remaining)\n",
      "Plotting ./rivet-plots/MC_ZINC_MU/Z_pT.dat (46/59 remaining)\n",
      "Plotting ./rivet-plots/MC_ZINC_MU/Z_pT_peak.dat (45/59 remaining)\n",
      "Plotting ./rivet-plots/MC_ZINC_MU/Z_phi.dat (44/59 remaining)\n",
      "Plotting ./rivet-plots/MC_ZINC_MU/Z_y.dat (43/59 remaining)\n",
      "Plotting ./rivet-plots/MC_ZINC_MU/lepton_eta.dat (42/59 remaining)\n",
      "Plotting ./rivet-plots/MC_ZINC_MU/lepton_pT.dat (41/59 remaining)\n",
      "Plotting ./rivet-plots/MC_ZJETS_MU/Z_jet1_dR.dat (40/59 remaining)\n",
      "Plotting ./rivet-plots/MC_ZJETS_MU/Z_jet1_deta.dat (39/59 remaining)\n",
      "Plotting ./rivet-plots/MC_ZJETS_MU/jet_HT.dat (38/59 remaining)\n",
      "Plotting ./rivet-plots/MC_ZJETS_MU/jet_eta_1.dat (37/59 remaining)\n",
      "Plotting ./rivet-plots/MC_ZJETS_MU/jet_eta_2.dat (36/59 remaining)\n",
      "Plotting ./rivet-plots/MC_ZJETS_MU/jet_eta_3.dat (35/59 remaining)\n",
      "Plotting ./rivet-plots/MC_ZJETS_MU/jet_eta_4.dat (34/59 remaining)\n",
      "Plotting ./rivet-plots/MC_ZJETS_MU/jet_eta_pmratio_1.dat (33/59 remaining)\n",
      "Plotting ./rivet-plots/MC_ZJETS_MU/jet_eta_pmratio_2.dat (32/59 remaining)\n",
      "Plotting ./rivet-plots/MC_ZJETS_MU/jet_eta_pmratio_3.dat (31/59 remaining)\n",
      "Plotting ./rivet-plots/MC_ZJETS_MU/jet_eta_pmratio_4.dat (30/59 remaining)\n",
      "Plotting ./rivet-plots/MC_ZJETS_MU/jet_mass_1.dat (29/59 remaining)\n",
      "Plotting ./rivet-plots/MC_ZJETS_MU/jet_mass_2.dat (28/59 remaining)\n",
      "Plotting ./rivet-plots/MC_ZJETS_MU/jet_mass_3.dat (27/59 remaining)\n",
      "Plotting ./rivet-plots/MC_ZJETS_MU/jet_mass_4.dat (26/59 remaining)\n",
      "Plotting ./rivet-plots/MC_ZJETS_MU/jet_multi_exclusive.dat (25/59 remaining)\n",
      "Plotting ./rivet-plots/MC_ZJETS_MU/jet_multi_inclusive.dat (24/59 remaining)\n",
      "Plotting ./rivet-plots/MC_ZJETS_MU/jet_multi_ratio.dat (23/59 remaining)\n",
      "Plotting ./rivet-plots/MC_ZJETS_MU/jet_pT_1.dat (22/59 remaining)\n",
      "Plotting ./rivet-plots/MC_ZJETS_MU/jet_pT_2.dat (21/59 remaining)\n",
      "Plotting ./rivet-plots/MC_ZJETS_MU/jet_pT_3.dat (20/59 remaining)\n",
      "Plotting ./rivet-plots/MC_ZJETS_MU/jet_pT_4.dat (19/59 remaining)\n",
      "Plotting ./rivet-plots/MC_ZJETS_MU/jet_y_1.dat (18/59 remaining)\n",
      "Plotting ./rivet-plots/MC_ZJETS_MU/jet_y_2.dat (17/59 remaining)\n",
      "Plotting ./rivet-plots/MC_ZJETS_MU/jet_y_3.dat (16/59 remaining)\n",
      "Plotting ./rivet-plots/MC_ZJETS_MU/jet_y_4.dat (15/59 remaining)\n",
      "Plotting ./rivet-plots/MC_ZJETS_MU/jet_y_pmratio_1.dat (14/59 remaining)\n",
      "Plotting ./rivet-plots/MC_ZJETS_MU/jet_y_pmratio_2.dat (13/59 remaining)\n",
      "Plotting ./rivet-plots/MC_ZJETS_MU/jet_y_pmratio_3.dat (12/59 remaining)\n",
      "Plotting ./rivet-plots/MC_ZJETS_MU/jet_y_pmratio_4.dat (11/59 remaining)\n",
      "Plotting ./rivet-plots/MC_ZJETS_MU/jets_dR_12.dat (10/59 remaining)\n",
      "Plotting ./rivet-plots/MC_ZJETS_MU/jets_dR_13.dat (9/59 remaining)\n",
      "Plotting ./rivet-plots/MC_ZJETS_MU/jets_dR_23.dat (8/59 remaining)\n",
      "Plotting ./rivet-plots/MC_ZJETS_MU/jets_deta_12.dat (7/59 remaining)\n",
      "Plotting ./rivet-plots/MC_ZJETS_MU/jets_deta_13.dat (6/59 remaining)\n",
      "Plotting ./rivet-plots/MC_ZJETS_MU/jets_deta_23.dat (5/59 remaining)\n",
      "Plotting ./rivet-plots/MC_ZJETS_MU/jets_dphi_12.dat (4/59 remaining)\n",
      "Plotting ./rivet-plots/MC_ZJETS_MU/jets_dphi_13.dat (3/59 remaining)\n",
      "Plotting ./rivet-plots/MC_ZJETS_MU/jets_dphi_23.dat (2/59 remaining)\n",
      "Plotting ./rivet-plots/MC_ZJETS_MU/jets_mjj.dat (1/59 remaining)\n",
      "(herwig)"
     ]
    },
    {
     "ename": "",
     "evalue": "1",
     "output_type": "error",
     "traceback": []
    }
   ],
   "source": [
    "rivet-mkhtml LHC-Matchbox-Solution.yoda:\"Scale=2:Title=LO\" LHC-Matchbox-Solution-NLO.yoda:\"Scale=2:Title=NLO\""
   ]
  },
  {
   "cell_type": "markdown",
   "metadata": {},
   "source": [
    "Additionally, except for the **(inclusive) cross-section** to be in better agreement to data discussed above, also the cross-section for events with one additional jet improves enormously and is now compatibale with the measured data. \n",
    "This is due to the fact, that at NLO there is one real jet (at LO precision) generated, wheras in the LO generation additional jet activity is originating from the approximate parton shower and UE generation.\n",
    "Moreover, the **differential shapes of the kinematic distributions**, e.g. the distribution of the transverse momentum of the leading jet in the figure below, are better described, since the jet is not approximated anymore and shows a smoother tail to high $p_T$ :\n",
    "\n",
    "![The hardest jet in the event is much better described by the NLO prediction.](figures/ATLAS_leadjet_pT.png) \n",
    "\n",
    "This also effects the transverse momentum distribution of the $Z^0$-boson, since it is balancing the momentum of the jet and therefore a longer tail to higher $p_T$ can be observed. \n",
    "Nonetheless, there is still some discrepancy visible in observables that are sensitive to higher jet multiplicities, since only one additional jet is generated at NLO:\n",
    "\n",
    "![Also the $p_T$ distribution of the $Z^0$-boson is better described by the NLO prediction, due to the presence of a hard jet in a fraction of the events.](figures/Z_pT.png)"
   ]
  },
  {
   "cell_type": "markdown",
   "metadata": {},
   "source": [
    "<div class=\"alert alert-info\">\n",
    "<strong>Question 3.8:</strong> <strong>(Optional)</strong>\n",
    "    \n",
    "Think of further improvements! What would they be? Are they realistically achieveable?\n",
    "</div>"
   ]
  },
  {
   "cell_type": "markdown",
   "metadata": {},
   "source": [
    "Even **higher order corrections** are expected to improve the prediction of these observables. \n",
    "Especially, exclusive observables which are sensitive to high jet multiplicities profit.\n",
    "But also the overall prediction of inclusive observables are expected to improve, since additional virtual corrections improve the corresponding cross-sections inclusively and exclusively for certain jet multiplicities. \n",
    "However, the number of contributing subprocesses explosively rises (LO to NLO already had a rise from 10 to 70 subprocesses (80 with virtual corrections)) with higher orders of perturbation theory. \n",
    "Also, these additional subprocesses increasingly involve more complicated computations with higher orders in perturbation theory. \n",
    "This makes it computationally very hard and time consuming to actually compute these contributions. \n",
    "Approximate solutions, which for example only compute the real emission contributions of higher orders and merge them to the Born process (**multijet merging**) provide a manageable tradeoff.\n",
    "They include the kinematics of further hard emissions of jets, while requiring only a much smaller number of additional subprocesses (all internal virtual corrections get neglected) to compute."
   ]
  }
 ],
 "metadata": {
  "kernelspec": {
   "display_name": "Bash",
   "language": "bash",
   "name": "bash"
  },
  "language_info": {
   "codemirror_mode": "shell",
   "file_extension": ".sh",
   "mimetype": "text/x-sh",
   "name": "bash"
  }
 },
 "nbformat": 4,
 "nbformat_minor": 4
}
